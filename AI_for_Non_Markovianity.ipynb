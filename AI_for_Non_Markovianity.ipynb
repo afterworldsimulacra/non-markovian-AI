{
  "nbformat": 4,
  "nbformat_minor": 0,
  "metadata": {
    "colab": {
      "provenance": [],
      "authorship_tag": "ABX9TyP9kF6Ke41hUxUn3vNkVrO0",
      "include_colab_link": true
    },
    "kernelspec": {
      "name": "python3",
      "display_name": "Python 3"
    },
    "language_info": {
      "name": "python"
    }
  },
  "cells": [
    {
      "cell_type": "markdown",
      "metadata": {
        "id": "view-in-github",
        "colab_type": "text"
      },
      "source": [
        "<a href=\"https://colab.research.google.com/github/butterflylaceration/non-markovian-ai/blob/main/AI_for_Non_Markovianity.ipynb\" target=\"_parent\"><img src=\"https://colab.research.google.com/assets/colab-badge.svg\" alt=\"Open In Colab\"/></a>"
      ]
    },
    {
      "cell_type": "code",
      "execution_count": null,
      "metadata": {
        "colab": {
          "base_uri": "https://localhost:8080/"
        },
        "id": "jioNDoFNhcRT",
        "outputId": "4ead7f87-5a36-469e-9123-641e3ff6827b"
      },
      "outputs": [
        {
          "output_type": "stream",
          "name": "stdout",
          "text": [
            "Requirement already satisfied: qutip in /usr/local/lib/python3.10/dist-packages (4.7.1)\n",
            "Requirement already satisfied: numpy>=1.16.6 in /usr/local/lib/python3.10/dist-packages (from qutip) (1.22.4)\n",
            "Requirement already satisfied: scipy>=1.0 in /usr/local/lib/python3.10/dist-packages (from qutip) (1.10.1)\n",
            "Requirement already satisfied: packaging in /usr/local/lib/python3.10/dist-packages (from qutip) (23.1)\n"
          ]
        }
      ],
      "source": [
        "!pip install qutip\n",
        "import numpy as np\n",
        "from os.path import dirname, join as pjoin\n",
        "import scipy.io as sio\n",
        "from qutip import *\n",
        "from qutip.qip.operations import rx, ry, rz, rotation\n",
        "import scipy.io\n",
        "import pandas as pd\n",
        "from itertools import permutations, combinations_with_replacement\n",
        "import itertools as it\n",
        "import json\n",
        "from matplotlib import pyplot as plt\n",
        "import seaborn as sns\n",
        "sns.set()\n",
        "import tensorflow as tf"
      ]
    },
    {
      "cell_type": "code",
      "source": [
        "xp = (qutip.basis(2, 0) + (1+0j)*qutip.basis(2, 1)).unit()\n",
        "xm = (qutip.basis(2, 0) - (1+0j)*qutip.basis(2, 1)).unit()\n",
        "yp = (qutip.basis(2, 0) + (0+1j)*qutip.basis(2, 1)).unit()\n",
        "ym = (qutip.basis(2, 0) - (0+1j)*qutip.basis(2, 1)).unit()\n",
        "zp = (qutip.basis(2, 0) + (0+0j)*qutip.basis(2, 1)).unit()\n",
        "zm = (qutip.basis(2, 1) + (0+0j)*qutip.basis(2, 1)).unit()\n",
        "states = [xp, xm, yp, ym, zp, zm]\n",
        "rhos = [xp*xp.dag(), xm*xm.dag(), yp*yp.dag(), ym*ym.dag(), zp*zp.dag(), zm*zm.dag()]\n",
        "sigs = [sigmax(), sigmay(), sigmaz(), qeye(2)]\n",
        "\n",
        "\n",
        "\n",
        "def generateData(W):\n",
        "  ## put this fn inside the pickle for loop , use raw_data = GenerateData for each W\n",
        "  ## also write tomos = exp2probs(raw_data, runlabel=None) inside the pickle forloop too\n",
        "  ## since you need to generate tomos0, tomos1, etcetc. tomos are the features\n",
        "    '''\n",
        "    Given a W matrix, generate sample count data\n",
        "    '''\n",
        "\n",
        "    # encode states and measurements numerically to index into basis\n",
        "    labels_i = [k for k in it.product(range(6), range(3),range(6),range(3))]\n",
        "    c = [[0,1],[2,3],[4,5],[4,5]]  # [[xp,xm],[yp,ym],[zp,zm],[zp,zm]]\n",
        "    Ls = ['xp','xm','yp','ym','zp','zm']\n",
        "    Lo = ['x','y','z']\n",
        "    data = {}\n",
        "    for s1,o1,s2,o2 in labels_i:\n",
        "        label = f'{Ls[s1]},{Lo[o1]},{Ls[s2]},{Lo[o2]}'\n",
        "        counts = {}\n",
        "        # random number of tot counts around 8000\n",
        "        #tot = int(8000+(np.random.random()*200-100))\n",
        "        tot=8000\n",
        "        for m1,m2 in it.product(range(2),repeat=2):\n",
        "            # if o1=1,m1=2, c[1]=(2,3)  c[o1][m1]=3\n",
        "            omega=tensor(rhos[s1].trans(), rhos[c[o1][m1]], rhos[s2].trans(), rhos[c[o2][m2]]).full()\n",
        "            #omega=tensor(rhos[s1], rhos[c[o1][m1]], rhos[s2], rhos[c[o2][m2]]).full()\n",
        "            #counts[f'{m1}{m2}']=int(np.real(np.trace(np.matmul(W.full(),omega)))*tot)\n",
        "            counts[f'{m1}{m2}']=np.real(np.trace(np.matmul(W,omega)))*tot\n",
        "        totp = counts['00']+counts['01']+counts['10']+counts['11']\n",
        "        for k in counts:\n",
        "            counts[k]=counts[k]*tot/totp\n",
        "        data[label]=counts\n",
        "    return data\n",
        "def WToData(W):\n",
        "  ## also put this in the for loop\n",
        "    # encode states and measurements numerically to index into basis\n",
        "    labels_i = [k for k in it.product(range(6), range(3),range(6),range(3))]\n",
        "    c = [[0,1],[2,3],[4,5],[4,5]]  # [[xp,xm],[yp,ym],[zp,zm],[zp,zm]]\n",
        "    Ls = ['xp','xm','yp','ym','zp','zm']\n",
        "    Lo = ['x','y','z']\n",
        "    data = {}\n",
        "    for s1,o1,s2,o2 in labels_i:\n",
        "        label = f'{Ls[s1]},{Lo[o1]},{Ls[s2]},{Lo[o2]}'\n",
        "        counts = {}\n",
        "        # random number of tot counts around 8000\n",
        "        #tot = int(8000+(np.random.random()*200-100))\n",
        "        tot=8000\n",
        "        #pac=wtrace(W/4, rhos[s1].trans(), qeye(2), rhos[s2].trans(), qeye(2) )\n",
        "        for m1,m2 in it.product(range(2),repeat=2):\n",
        "            # if o1=1,m1=2, c[1]=(2,3)  c[o1][m1]=3\n",
        "            omega=tensor(rhos[s1].trans(), rhos[c[o1][m1]], rhos[s2].trans(), rhos[c[o2][m2]]).full()\n",
        "            #omega=tensor(rhos[s1], rhos[c[o1][m1]], rhos[s2], rhos[c[o2][m2]]).full()\n",
        "            #counts[f'{m1}{m2}']=int(np.real(np.trace(np.matmul(W.full(),omega)))*tot)\n",
        "            counts[f'{m1}{m2}']=np.real(np.trace(np.matmul(W.full(),omega)))*tot#/pac\n",
        "        totp = counts['00']+counts['01']+counts['10']+counts['11']\n",
        "        for k in counts:\n",
        "            counts[k]=counts[k]*tot/totp\n",
        "        data[label]=counts\n",
        "    return data\n",
        "\n",
        "def exp2probs(raw, runlabel):\n",
        "    '''\n",
        "    Conversion utility for Tyler's data to a straight list of probabilies\n",
        "    Reads in data in form\n",
        "    {\"xp,x,xp,x\": {\"00\": 7917, \"01\": 13, \"10\": 31, \"11\": 29} ...\n",
        "    and generates tomography data in form\n",
        "    (0, 0, 0, 0) 0.9908635794743429\n",
        "    (0, 0, 0, 1) 0.0016270337922403004\n",
        "    :\n",
        "\n",
        "    '''\n",
        "    Km = {'x0':0,'x1':1,'y0':2,'y1':3,'z0':4,'z1':5}\n",
        "    Ks = {'xp':0,'xm':1,'yp':2,'ym':3,'zp':4,'zm':5}\n",
        "    labels=[]\n",
        "    probs=[]\n",
        "\n",
        "    if runlabel is None:\n",
        "        data = raw\n",
        "\n",
        "    else:\n",
        "        data = raw[runlabel]\n",
        "\n",
        "    for key in data:\n",
        "        counts = data[key]\n",
        "        keys=key.split(',')\n",
        "        # e.g. keys = ['xp','y','yp','z']\n",
        "        # e.g. counts looks like {\"00\": 7917, \"01\": 13, \"10\": 31, \"11\": 29}\n",
        "        #tot=0\n",
        "        #for c in counts.values():\n",
        "        #    tot+=c\n",
        "        tot = counts['00']+counts['01']+counts['10']+counts['11']\n",
        "\n",
        "\n",
        "\n",
        "\n",
        "\n",
        "        for l1,l2 in ['00','01','10','11']:\n",
        "            lab= (Ks[keys[0]], Km[keys[1]+l1], Ks[keys[2]], Km[keys[3]+l2])\n",
        "            # key = ('xp','y0','yp','z0') -> (0,2,2,4) = lab\n",
        "            prob = counts[l1+l2]/tot\n",
        "\n",
        "\n",
        "\n",
        "            labels.append(lab)\n",
        "            probs.append(prob)\n",
        "    return pd.DataFrame(probs,index=labels)\n",
        "\n"
      ],
      "metadata": {
        "id": "Ok56tdDRh0KV"
      },
      "execution_count": null,
      "outputs": []
    },
    {
      "cell_type": "code",
      "source": [
        "## create a for loop that opens all the pickle files\n",
        "\n",
        "## example code:\n",
        "# Open a file and use dump()\n",
        "# import pickle\n",
        "# var = locals() ## locals is all the local vars\n",
        "# g = 1000\n",
        "# var_holder = {}\n",
        "\n",
        "# for i in range(g):\n",
        "#  with open('W_exp_uq'+str(i)+'.pkl', 'rb') as f:\n",
        "#    string = 'W'+str(i)\n",
        "#    var_holder[string] = f ## for i = 0 create W0\n",
        "#    pickle.dump(var[string], f)\n",
        "#    stroW+str(i)\n",
        "# locals().update(var_holder)\n",
        "\n",
        "## You'll have W0, W1, W2, ... W999\n"
      ],
      "metadata": {
        "id": "B2U21ME-j9sX"
      },
      "execution_count": null,
      "outputs": []
    }
  ]
}